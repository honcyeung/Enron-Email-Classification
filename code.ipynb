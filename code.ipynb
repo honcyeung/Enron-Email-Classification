{
 "cells": [
  {
   "cell_type": "code",
   "execution_count": 1,
   "id": "5eb3c2cb",
   "metadata": {},
   "outputs": [],
   "source": [
    "import pandas as pd\n",
    "import numpy as np\n",
    "import matplotlib.pyplot as plt\n",
    "from datetime import datetime\n",
    "import string\n",
    "from sklearn.feature_extraction.text import TfidfVectorizer\n",
    "from sklearn.model_selection import train_test_split\n",
    "from tensorflow.keras.layers import Dense, Dropout\n",
    "from tensorflow.keras import Sequential, callbacks\n",
    "from keras.regularizers import l1\n",
    "import pickle\n",
    "import nltk\n",
    "from random import randint, choice\n",
    "import warnings\n",
    "from flask import Flask, render_template, request"
   ]
  },
  {
   "cell_type": "code",
   "execution_count": 2,
   "id": "14880665",
   "metadata": {},
   "outputs": [],
   "source": [
    "%matplotlib inline\n",
    "warnings.filterwarnings('ignore')\n",
    "plt.style.use('seaborn')"
   ]
  },
  {
   "cell_type": "markdown",
   "id": "23486c02",
   "metadata": {},
   "source": [
    "# Data Exploration"
   ]
  },
  {
   "cell_type": "code",
   "execution_count": 3,
   "id": "340ce90b",
   "metadata": {},
   "outputs": [
    {
     "data": {
      "text/html": [
       "<div>\n",
       "<style scoped>\n",
       "    .dataframe tbody tr th:only-of-type {\n",
       "        vertical-align: middle;\n",
       "    }\n",
       "\n",
       "    .dataframe tbody tr th {\n",
       "        vertical-align: top;\n",
       "    }\n",
       "\n",
       "    .dataframe thead th {\n",
       "        text-align: right;\n",
       "    }\n",
       "</style>\n",
       "<table border=\"1\" class=\"dataframe\">\n",
       "  <thead>\n",
       "    <tr style=\"text-align: right;\">\n",
       "      <th></th>\n",
       "      <th>Target</th>\n",
       "      <th>Message</th>\n",
       "    </tr>\n",
       "  </thead>\n",
       "  <tbody>\n",
       "    <tr>\n",
       "      <th>0</th>\n",
       "      <td>internal company policy</td>\n",
       "      <td>Message-ID: &lt;32715630.1075840547840.JavaMail.e...</td>\n",
       "    </tr>\n",
       "    <tr>\n",
       "      <th>1</th>\n",
       "      <td>alliances / partnerships</td>\n",
       "      <td>Message-ID: &lt;8721012.1075863428380.JavaMail.ev...</td>\n",
       "    </tr>\n",
       "    <tr>\n",
       "      <th>2</th>\n",
       "      <td>internal company operations</td>\n",
       "      <td>Message-ID: &lt;8687721.1075852656109.JavaMail.ev...</td>\n",
       "    </tr>\n",
       "    <tr>\n",
       "      <th>3</th>\n",
       "      <td>internal company operations</td>\n",
       "      <td>Message-ID: &lt;16562450.1075846168630.JavaMail.e...</td>\n",
       "    </tr>\n",
       "    <tr>\n",
       "      <th>4</th>\n",
       "      <td>internal projects -- progress and strategy</td>\n",
       "      <td>Message-ID: &lt;955111.1075858690252.JavaMail.eva...</td>\n",
       "    </tr>\n",
       "  </tbody>\n",
       "</table>\n",
       "</div>"
      ],
      "text/plain": [
       "                                       Target  \\\n",
       "0                     internal company policy   \n",
       "1                    alliances / partnerships   \n",
       "2                 internal company operations   \n",
       "3                 internal company operations   \n",
       "4  internal projects -- progress and strategy   \n",
       "\n",
       "                                             Message  \n",
       "0  Message-ID: <32715630.1075840547840.JavaMail.e...  \n",
       "1  Message-ID: <8721012.1075863428380.JavaMail.ev...  \n",
       "2  Message-ID: <8687721.1075852656109.JavaMail.ev...  \n",
       "3  Message-ID: <16562450.1075846168630.JavaMail.e...  \n",
       "4  Message-ID: <955111.1075858690252.JavaMail.eva...  "
      ]
     },
     "execution_count": 3,
     "metadata": {},
     "output_type": "execute_result"
    }
   ],
   "source": [
    "# read data\n",
    "\n",
    "df = pd.read_csv('enron_dataset.csv', sep = ';').drop('Unnamed: 0', axis = 1)\n",
    "df.head()"
   ]
  },
  {
   "cell_type": "code",
   "execution_count": 4,
   "id": "dd592469",
   "metadata": {},
   "outputs": [
    {
     "name": "stdout",
     "output_type": "stream",
     "text": [
      "<class 'pandas.core.frame.DataFrame'>\n",
      "RangeIndex: 879 entries, 0 to 878\n",
      "Data columns (total 2 columns):\n",
      " #   Column   Non-Null Count  Dtype \n",
      "---  ------   --------------  ----- \n",
      " 0   Target   879 non-null    object\n",
      " 1   Message  879 non-null    object\n",
      "dtypes: object(2)\n",
      "memory usage: 13.9+ KB\n"
     ]
    }
   ],
   "source": [
    "df.info()"
   ]
  },
  {
   "cell_type": "code",
   "execution_count": 5,
   "id": "90754c91",
   "metadata": {},
   "outputs": [
    {
     "data": {
      "text/plain": [
       "Target     0\n",
       "Message    0\n",
       "dtype: int64"
      ]
     },
     "execution_count": 5,
     "metadata": {},
     "output_type": "execute_result"
    }
   ],
   "source": [
    "# check Nan values\n",
    "\n",
    "df.isna().sum()"
   ]
  },
  {
   "cell_type": "code",
   "execution_count": 6,
   "id": "42551d51",
   "metadata": {},
   "outputs": [
    {
     "data": {
      "image/png": "[encoded data removed]",
      "text/plain": [
       "<Figure size 576x396 with 1 Axes>"
      ]
     },
     "metadata": {},
     "output_type": "display_data"
    }
   ],
   "source": [
    "# visualize counts of each label\n",
    "\n",
    "target_count = df.Target.value_counts()\n",
    "plt.barh(target_count.index, target_count)\n",
    "ax = plt.gca()\n",
    "ax.set_ylim(ax.get_ylim()[::-1]);"
   ]
  },
  {
   "cell_type": "markdown",
   "id": "909491aa",
   "metadata": {},
   "source": [
    "# Data Preparation"
   ]
  },
  {
   "cell_type": "code",
   "execution_count": 7,
   "id": "d3d9eea1",
   "metadata": {
    "scrolled": true
   },
   "outputs": [],
   "source": [
    "# define a function to extract the datetime from emails\n",
    "\n",
    "def get_datetime(message):\n",
    "    date = message.split('\\n')[1][11:-12]\n",
    "    return datetime.strptime(date, '%d %b %Y %H:%M:%S')"
   ]
  },
  {
   "cell_type": "code",
   "execution_count": 8,
   "id": "867c77e0",
   "metadata": {},
   "outputs": [],
   "source": [
    "# define a function to extract the subject from emails\n",
    "\n",
    "def get_subject(message):\n",
    "    \n",
    "    subject = message.split('\\n')\n",
    "    for s in subject:\n",
    "        if s.startswith('Subject'):\n",
    "            return s[9:]"
   ]
  },
  {
   "cell_type": "code",
   "execution_count": 9,
   "id": "6612dd57",
   "metadata": {},
   "outputs": [],
   "source": [
    "# list to store elements(email heading) to be removed\n",
    "\n",
    "element_to_drop = ['Message-ID:', 'Date:', 'From:', 'To:', 'Subject:', 'Cc:', 'Mime-Version:',\n",
    " 'Content-Type:', 'Content-Transfer-Encoding:', 'Bcc:', 'X-From:', 'X-To:', 'X-cc:', 'X-bcc:',\n",
    " 'X-Folder:', 'X-Origin:', 'X-FileName:', 'cc', '\\t', '--', 'Sent', ' --']"
   ]
  },
  {
   "cell_type": "code",
   "execution_count": 10,
   "id": "dc6e8bb1",
   "metadata": {
    "scrolled": true
   },
   "outputs": [],
   "source": [
    "# define a function to get the email content from message\n",
    "\n",
    "def get_content(message):\n",
    "    \n",
    "    message = message.split('\\n')\n",
    "    message_copy = [ele for ele in message if ele != '']\n",
    "    \n",
    "    # remove the unwanted elements in the message\n",
    "    for m in message:\n",
    "        for e in element_to_drop:\n",
    "            if m.startswith(e):\n",
    "                message_copy.remove(m)\n",
    "    return message_copy"
   ]
  },
  {
   "cell_type": "code",
   "execution_count": 11,
   "id": "b25a9fce",
   "metadata": {},
   "outputs": [],
   "source": [
    "# define a function to get receivers of email\n",
    "\n",
    "def get_receiver(message):\n",
    "    \n",
    "    l = []\n",
    "    for m in message:\n",
    "        if m.startswith('X-To'):\n",
    "            l.append(m[6:])\n",
    "            l = l[0].split(', ')\n",
    "    \n",
    "    return l"
   ]
  },
  {
   "cell_type": "code",
   "execution_count": 12,
   "id": "6592421e",
   "metadata": {
    "scrolled": true
   },
   "outputs": [
    {
     "data": {
      "text/plain": [
       "0    [GILBERT-SMITH@mailman.enron.com, Gilbert-smit...\n",
       "1                                ['vkaminski@aol.com']\n",
       "2    [Lay, Kenneth </O=ENRON/OU=NA/CN=RECIPIENTS/CN...\n",
       "3                                    [Michael Terraso]\n",
       "4    ['sbishop@gibbs-bruns.com', 'jalexander@gibbs-...\n",
       "Name: Receiver, dtype: object"
      ]
     },
     "execution_count": 12,
     "metadata": {},
     "output_type": "execute_result"
    }
   ],
   "source": [
    "# add receivers of email to the dataset\n",
    "\n",
    "df2 = df.copy()\n",
    "df2['Receiver'] = df2.Message.apply(lambda x: x.split('\\n'))\n",
    "df2['Receiver'] = df2.Receiver.apply(get_receiver)\n",
    "df2.Receiver.head()"
   ]
  },
  {
   "cell_type": "code",
   "execution_count": 13,
   "id": "afb39bd1",
   "metadata": {},
   "outputs": [
    {
     "data": {
      "text/plain": [
       "{0: 'internal company policy',\n",
       " 1: 'alliances / partnerships',\n",
       " 2: 'internal company operations',\n",
       " 3: 'internal projects -- progress and strategy',\n",
       " 4: 'regulations and regulators (includes price caps)',\n",
       " 5: ' company image -- current',\n",
       " 6: 'california energy crisis / california politics',\n",
       " 7: 'meeting minutes',\n",
       " 8: 'political influence / contributions / contacts',\n",
       " 9: 'legal advice',\n",
       " 10: 'talking points',\n",
       " 11: 'company image -- changing / influencing',\n",
       " 12: 'trip reports'}"
      ]
     },
     "execution_count": 13,
     "metadata": {},
     "output_type": "execute_result"
    }
   ],
   "source": [
    "# define a dictionary to create key-value pairs of labels\n",
    "\n",
    "labels = df.Target.unique()\n",
    "labels_num = np.arange(len(labels))\n",
    "labels_dict = dict(zip(labels_num, labels))\n",
    "labels_dict"
   ]
  },
  {
   "cell_type": "markdown",
   "id": "83f683fe",
   "metadata": {},
   "source": [
    "# Data Cleaning"
   ]
  },
  {
   "cell_type": "code",
   "execution_count": 14,
   "id": "24081891",
   "metadata": {},
   "outputs": [],
   "source": [
    "# define a list of stopwords\n",
    "\n",
    "stopword_list = nltk.corpus.stopwords.words('english')\n",
    "extra_stopwords = ['fw', 're']\n",
    "stopword_list.extend(extra_stopwords)"
   ]
  },
  {
   "cell_type": "code",
   "execution_count": 15,
   "id": "7402e4b2",
   "metadata": {},
   "outputs": [],
   "source": [
    "# define a function to get the content of emails\n",
    "\n",
    "def content_cleaning(content):\n",
    "    \n",
    "    # remove empty and None list elements \n",
    "    content = list(filter(lambda x: x.strip() not in ['', [], None], content))\n",
    "    return ' '.join(content)"
   ]
  },
  {
   "cell_type": "code",
   "execution_count": 16,
   "id": "a49d7757",
   "metadata": {},
   "outputs": [],
   "source": [
    "# define a function to remove punctuation, numbers, stop words, and redundant space from text\n",
    "\n",
    "def text_cleaning(text):\n",
    "    \n",
    "    text = text.lower().translate(str.maketrans('', '', string.punctuation))\n",
    "    text = text.translate(str.maketrans('', '', string.digits))\n",
    "    text = ' '.join([item for item in text.split() if item not in stopword_list])\n",
    "    text = text.strip()\n",
    "    return text"
   ]
  },
  {
   "cell_type": "code",
   "execution_count": 17,
   "id": "c9aad540",
   "metadata": {},
   "outputs": [],
   "source": [
    "# define a function to get senders of email\n",
    "\n",
    "def get_sender(text):\n",
    "    return text.split('\\n')[2][6:] "
   ]
  },
  {
   "cell_type": "code",
   "execution_count": 18,
   "id": "7382b587",
   "metadata": {},
   "outputs": [],
   "source": [
    "# define a function to perform data cleaning\n",
    "\n",
    "def data_cleaning(df, train = True):\n",
    "    \n",
    "    df2 = df.copy()\n",
    "\n",
    "    # extract datetime\n",
    "    df2['Datetime'] = df.Message.apply(get_datetime)\n",
    "    df2['Year'] = df2.Datetime.dt.year\n",
    "    df2['Month'] = df2.Datetime.dt.month\n",
    "    df2['Day'] = df2.Datetime.dt.day\n",
    "    \n",
    "    # email subject extraction\n",
    "    df2['Subject'] = df.Message.apply(get_subject)\n",
    "    # email content extraction\n",
    "    df2['Content'] = df.Message.apply(get_content)\n",
    "    \n",
    "    if train:\n",
    "        df2['Labels'] = df['Target'].replace(list(labels_dict.values()), list(labels_dict.keys()))\n",
    "    \n",
    "    # get cleaned email subject and content\n",
    "    df2['Subject_cleaned'] = df2['Subject'].apply(text_cleaning)\n",
    "    df2['Content_cleaned'] = df2['Content'].apply(content_cleaning)\n",
    "    df2['Content_cleaned'] = df2['Content_cleaned'].apply(text_cleaning)\n",
    "    \n",
    "    # get email senders\n",
    "    emails = df.Message.apply(get_sender)\n",
    "    # one-hot encoding for email senders\n",
    "    emails = pd.get_dummies(emails)\n",
    "    \n",
    "    return df2, emails"
   ]
  },
  {
   "cell_type": "code",
   "execution_count": 19,
   "id": "93dd36e5",
   "metadata": {},
   "outputs": [],
   "source": [
    "# define a function to create TF-IDF for text\n",
    "\n",
    "def tfidf(df):\n",
    "    \n",
    "    vectorizer = TfidfVectorizer(ngram_range = (1, 4), max_features = 4500, use_idf = True)\n",
    "    subject_tfidf = vectorizer.fit_transform(df.Subject_cleaned)\n",
    "    content_tfidf = vectorizer.fit_transform(df.Content_cleaned)\n",
    "    \n",
    "    return vectorizer, subject_tfidf, content_tfidf"
   ]
  },
  {
   "cell_type": "code",
   "execution_count": 20,
   "id": "394262b1",
   "metadata": {},
   "outputs": [],
   "source": [
    "# define a function to get a list of email receivers\n",
    "\n",
    "def get_receiver_list(receiver):\n",
    "    \n",
    "    receiver = [person for row in receiver for person in row if person != '']\n",
    "    return list(set(receiver))"
   ]
  },
  {
   "cell_type": "code",
   "execution_count": 21,
   "id": "a3c1afdf",
   "metadata": {},
   "outputs": [
    {
     "data": {
      "text/plain": [
       "['Kevin M. </O=ENRON/OU=NA/CN=RECIPIENTS/CN=KPRESTO>',\n",
       " 'Peter Styles',\n",
       " 'Beck',\n",
       " 'Richard Lewis',\n",
       " '\"\\'Smith',\n",
       " 'Jennifer\\'\" <jennifer.hein@neg.pge.com>',\n",
       " 'Michelle Lokay',\n",
       " 'Holden </O=ENRON/OU=NA/CN=RECIPIENTS/CN=HSALISBU>',\n",
       " '\"\\'Kassandra Gough (E-mail)\\'\" <kgough@calpine.com>',\n",
       " 'Mark E. </O=ENRON/OU=NA/CN=RECIPIENTS/CN=Mhaedic>']"
      ]
     },
     "execution_count": 21,
     "metadata": {},
     "output_type": "execute_result"
    }
   ],
   "source": [
    "# get a list of receivers\n",
    "\n",
    "receiver_list = get_receiver_list(df2.Receiver)\n",
    "receiver_list[:10]"
   ]
  },
  {
   "cell_type": "code",
   "execution_count": 22,
   "id": "bda8664f",
   "metadata": {
    "scrolled": true
   },
   "outputs": [],
   "source": [
    "# define a function to make one-hot encoding of receivers\n",
    "\n",
    "def one_hot_encoding_receiver(df, receiver_list, train = True):\n",
    "    \n",
    "    df[receiver_list] = 0\n",
    "    if train:\n",
    "        df.drop(['Target', 'Message'], axis = 1, inplace = True)\n",
    "    \n",
    "    # loop through each row to perform one-hot encoding\n",
    "    for row_index, row in enumerate(df.Receiver):\n",
    "        for col in row:\n",
    "            if col in df.columns:\n",
    "                df.loc[row_index, col] = 1   \n",
    "    df = df[receiver_list]\n",
    "    return df"
   ]
  },
  {
   "cell_type": "code",
   "execution_count": 23,
   "id": "324e6416",
   "metadata": {
    "scrolled": true
   },
   "outputs": [
    {
     "name": "stdout",
     "output_type": "stream",
     "text": [
      "CPU times: user 20.2 s, sys: 1.03 s, total: 21.2 s\n",
      "Wall time: 30 s\n"
     ]
    }
   ],
   "source": [
    "%time\n",
    "\n",
    "# data cleaning for the dataset\n",
    "df2, emails = data_cleaning(df2)\n",
    "vectorizer, subject_tfidf, content_tfidf = tfidf(df2)\n",
    "receivers = one_hot_encoding_receiver(df2, receiver_list)"
   ]
  },
  {
   "cell_type": "code",
   "execution_count": 24,
   "id": "2ed607f2",
   "metadata": {},
   "outputs": [],
   "source": [
    "# define a function to combine essential columns\n",
    "\n",
    "def combine(df2, emails, receivers, subject_tfidf, content_tfidf):\n",
    "    \n",
    "    subject_tfidf_df = pd.DataFrame(subject_tfidf.toarray())\n",
    "    content_tfidf_df = pd.DataFrame(content_tfidf.toarray())\n",
    "    time = df2[['Year', 'Month', 'Day']]\n",
    "    return pd.concat([time, emails, receivers, subject_tfidf_df, content_tfidf_df], axis = 1)"
   ]
  },
  {
   "cell_type": "code",
   "execution_count": 25,
   "id": "e47ead96",
   "metadata": {},
   "outputs": [],
   "source": [
    "# prepare data for model training\n",
    "\n",
    "X = combine(df2, emails, receivers, subject_tfidf, content_tfidf)\n",
    "y = df2.Labels\n",
    "\n",
    "X_train, X_test, y_train, y_test = train_test_split(X, y, test_size = 0.2, random_state = 42)"
   ]
  },
  {
   "cell_type": "markdown",
   "id": "e5ad4d31",
   "metadata": {},
   "source": [
    "# Model Building"
   ]
  },
  {
   "cell_type": "code",
   "execution_count": 26,
   "id": "118e3a42",
   "metadata": {
    "scrolled": true
   },
   "outputs": [
    {
     "name": "stdout",
     "output_type": "stream",
     "text": [
      "Epoch 1/100\n",
      "22/22 [==============================] - 5s 109ms/step - loss: 37.3328 - accuracy: 0.1366\n",
      "Epoch 2/100\n",
      "22/22 [==============================] - 2s 82ms/step - loss: 26.0876 - accuracy: 0.1550\n",
      "Epoch 3/100\n",
      "22/22 [==============================] - 2s 71ms/step - loss: 17.0611 - accuracy: 0.1309\n",
      "Epoch 4/100\n",
      "22/22 [==============================] - 2s 68ms/step - loss: 9.2492 - accuracy: 0.1821\n",
      "Epoch 5/100\n",
      "22/22 [==============================] - 2s 69ms/step - loss: 5.0297 - accuracy: 0.1849\n",
      "Epoch 6/100\n",
      "22/22 [==============================] - 2s 88ms/step - loss: 2.4712 - accuracy: 0.2831\n",
      "Epoch 7/100\n",
      "22/22 [==============================] - 2s 74ms/step - loss: 2.0921 - accuracy: 0.2987\n",
      "Epoch 8/100\n",
      "22/22 [==============================] - 2s 74ms/step - loss: 2.0369 - accuracy: 0.3243\n",
      "Epoch 9/100\n",
      "22/22 [==============================] - 2s 70ms/step - loss: 2.0978 - accuracy: 0.2788\n",
      "Epoch 10/100\n",
      "22/22 [==============================] - 2s 69ms/step - loss: 2.0965 - accuracy: 0.3016\n",
      "Epoch 11/100\n",
      "22/22 [==============================] - 2s 69ms/step - loss: 2.0516 - accuracy: 0.3243\n",
      "Epoch 12/100\n",
      "22/22 [==============================] - 2s 69ms/step - loss: 2.0450 - accuracy: 0.2945\n",
      "6/6 [==============================] - 0s 24ms/step - loss: 2.1452 - accuracy: 0.2386\n"
     ]
    },
    {
     "data": {
      "text/plain": [
       "[2.14521861076355, 0.23863635957241058]"
      ]
     },
     "execution_count": 26,
     "metadata": {},
     "output_type": "execute_result"
    }
   ],
   "source": [
    "# define a neural network model \n",
    "\n",
    "model = Sequential([\n",
    "#     Dense(1500, activation = 'relu', activity_regularizer = l1(0.001)),\n",
    "    Dense(1000, activation = 'relu'),\n",
    "    Dropout(0.4),\n",
    "#     Dense(500, activation = 'relu'),\n",
    "    Dense(len(labels_dict), activation = 'softmax')\n",
    "])\n",
    "\n",
    "model.compile(loss = 'sparse_categorical_crossentropy', optimizer = 'adam', \n",
    "              metrics = ['accuracy'])\n",
    "\n",
    "# define early stopping in case that accuracy doesn't imporve\n",
    "my_callbacks = callbacks.EarlyStopping(monitor = 'accuracy', patience = 4)\n",
    "model.fit(X_train, y_train, epochs = 100, callbacks = [my_callbacks])\n",
    "result = model.evaluate(X_test, y_test)\n",
    "result"
   ]
  },
  {
   "cell_type": "code",
   "execution_count": 24,
   "id": "40c41045",
   "metadata": {},
   "outputs": [
    {
     "name": "stdout",
     "output_type": "stream",
     "text": [
      "INFO:tensorflow:Assets written to: ram://552bdd1c-31b4-4ec4-9107-30f10feaa7c8/assets\n"
     ]
    }
   ],
   "source": [
    "# save the model\n",
    "\n",
    "now = datetime.now().strftime('%Y-%m-%d %H_%M_%S')\n",
    "filename = f'{round(result[1], 3)}_{now}.pkl'\n",
    "\n",
    "with open(filename, 'wb') as file:\n",
    "    pickle.dump(model, file)"
   ]
  },
  {
   "cell_type": "code",
   "execution_count": 27,
   "id": "34c3606f",
   "metadata": {
    "scrolled": true
   },
   "outputs": [
    {
     "name": "stdout",
     "output_type": "stream",
     "text": [
      "6/6 [==============================] - 1s 79ms/step - loss: 2.1042 - accuracy: 0.3466\n"
     ]
    },
    {
     "data": {
      "text/plain": [
       "[2.104163408279419, 0.34659090638160706]"
      ]
     },
     "execution_count": 27,
     "metadata": {},
     "output_type": "execute_result"
    }
   ],
   "source": [
    "# load saved model\n",
    "\n",
    "model_loaded = pickle.load(open('0.398_2022-01-20 11_13_08.pkl', 'rb'))\n",
    "model_loaded.evaluate(X_test, y_test)"
   ]
  },
  {
   "cell_type": "code",
   "execution_count": 29,
   "id": "e68e5c1e",
   "metadata": {
    "scrolled": true
   },
   "outputs": [
    {
     "data": {
      "text/plain": [
       "{'name': 'sequential_15',\n",
       " 'layers': [{'class_name': 'InputLayer',\n",
       "   'config': {'batch_input_shape': (None, 10972),\n",
       "    'dtype': 'float64',\n",
       "    'sparse': False,\n",
       "    'ragged': False,\n",
       "    'name': 'dense_30_input'}},\n",
       "  {'class_name': 'Dense',\n",
       "   'config': {'name': 'dense_30',\n",
       "    'trainable': True,\n",
       "    'dtype': 'float32',\n",
       "    'units': 2000,\n",
       "    'activation': 'relu',\n",
       "    'use_bias': True,\n",
       "    'kernel_initializer': {'class_name': 'GlorotUniform',\n",
       "     'config': {'seed': None}},\n",
       "    'bias_initializer': {'class_name': 'Zeros', 'config': {}},\n",
       "    'kernel_regularizer': None,\n",
       "    'bias_regularizer': None,\n",
       "    'activity_regularizer': None,\n",
       "    'kernel_constraint': None,\n",
       "    'bias_constraint': None}},\n",
       "  {'class_name': 'Dropout',\n",
       "   'config': {'name': 'dropout_11',\n",
       "    'trainable': True,\n",
       "    'dtype': 'float32',\n",
       "    'rate': 0.4,\n",
       "    'noise_shape': None,\n",
       "    'seed': None}},\n",
       "  {'class_name': 'Dense',\n",
       "   'config': {'name': 'dense_31',\n",
       "    'trainable': True,\n",
       "    'dtype': 'float32',\n",
       "    'units': 13,\n",
       "    'activation': 'sigmoid',\n",
       "    'use_bias': True,\n",
       "    'kernel_initializer': {'class_name': 'GlorotUniform',\n",
       "     'config': {'seed': None}},\n",
       "    'bias_initializer': {'class_name': 'Zeros', 'config': {}},\n",
       "    'kernel_regularizer': None,\n",
       "    'bias_regularizer': None,\n",
       "    'activity_regularizer': None,\n",
       "    'kernel_constraint': None,\n",
       "    'bias_constraint': None}}]}"
      ]
     },
     "execution_count": 29,
     "metadata": {},
     "output_type": "execute_result"
    }
   ],
   "source": [
    "# get the configurations of the model\n",
    "\n",
    "model_loaded.get_config()"
   ]
  },
  {
   "cell_type": "code",
   "execution_count": 30,
   "id": "bd9ac44b",
   "metadata": {},
   "outputs": [
    {
     "name": "stdout",
     "output_type": "stream",
     "text": [
      "Input shape: 2000\n",
      "Dropout: 0.4\n",
      "Activation: sigmoid\n"
     ]
    }
   ],
   "source": [
    "print(f\"Input shape: {model_loaded.get_config()['layers'][1]['config']['units']}\")\n",
    "# print(f\"L1: {model_loaded.get_config()['layers'][1]['config']['activity_regularizer']['config']['l1']}\")\n",
    "print(f\"Dropout: {model_loaded.get_config()['layers'][2]['config']['rate']}\")\n",
    "print(f\"Activation: {model_loaded.get_config()['layers'][3]['config']['activation']}\")"
   ]
  },
  {
   "cell_type": "markdown",
   "id": "0a8ce477",
   "metadata": {},
   "source": [
    "# Prediction Preparation"
   ]
  },
  {
   "cell_type": "code",
   "execution_count": 28,
   "id": "fc7a28e3",
   "metadata": {
    "scrolled": true
   },
   "outputs": [],
   "source": [
    "# define a function to clean and prepare user input message from web application\n",
    "\n",
    "def pred_data_cleaning(message, receiver_list):\n",
    "    message_copy = pd.DataFrame([message], columns = ['Message'])\n",
    "    message_df, message_emails = data_cleaning(message_copy, train = False)\n",
    "    message_df['Receiver'] = message_df.Message.apply(lambda x: x.split('\\n'))\n",
    "    message_df.drop(['Message', 'Datetime', 'Subject', 'Content'], axis = 1, inplace = True)\n",
    "    \n",
    "    # encode the columns of senders of email as 0 if they are not the senders\n",
    "    for c in emails.columns:\n",
    "        if c not in message_emails.columns:\n",
    "            message_emails[c] = 0\n",
    "    \n",
    "    message_subject_tfidf = vectorizer.transform(message_df.Subject_cleaned)\n",
    "    message_content_tfidf = vectorizer.transform(message_df.Content_cleaned)\n",
    "    message_df['Receiver'] = message_df.Receiver.apply(get_receiver)\n",
    "    receivers = one_hot_encoding_receiver(message_df, receiver_list, train = False)\n",
    "    \n",
    "    message_df_final = combine(message_df, message_emails, receivers, \n",
    "                               message_subject_tfidf, message_content_tfidf)\n",
    "\n",
    "    return message_df_final"
   ]
  },
  {
   "cell_type": "code",
   "execution_count": 29,
   "id": "8d4ef6ae",
   "metadata": {
    "scrolled": true
   },
   "outputs": [
    {
     "name": "stdout",
     "output_type": "stream",
     "text": [
      "california energy crisis / california politics\n",
      "regulations and regulators (includes price caps)\n"
     ]
    }
   ],
   "source": [
    "# test the predictions\n",
    "\n",
    "num = choice(X_test.index)\n",
    "m = df.Message[num]\n",
    "\n",
    "message = pred_data_cleaning(m, receiver_list)\n",
    "prediction = model_loaded.predict(message)\n",
    "print(labels_dict[prediction.argmax()])\n",
    "print(labels_dict[y_test[num]])"
   ]
  },
  {
   "cell_type": "code",
   "execution_count": 30,
   "id": "d42b4cd0",
   "metadata": {},
   "outputs": [
    {
     "name": "stdout",
     "output_type": "stream",
     "text": [
      "Stored 'testing' (Int64Index)\n"
     ]
    }
   ],
   "source": [
    "testing = X_test.index\n",
    "%store testing"
   ]
  },
  {
   "cell_type": "markdown",
   "id": "8a5e7780",
   "metadata": {},
   "source": [
    "# Launch Flask Web Application"
   ]
  },
  {
   "cell_type": "code",
   "execution_count": 31,
   "id": "adaf6893",
   "metadata": {
    "scrolled": true
   },
   "outputs": [
    {
     "name": "stdout",
     "output_type": "stream",
     "text": [
      " * Serving Flask app '__main__' (lazy loading)\n",
      " * Environment: production\n",
      "\u001b[31m   WARNING: This is a development server. Do not use it in a production deployment.\u001b[0m\n",
      "\u001b[2m   Use a production WSGI server instead.\u001b[0m\n",
      " * Debug mode: off\n"
     ]
    },
    {
     "name": "stderr",
     "output_type": "stream",
     "text": [
      " * Running on http://127.0.0.1:5000/ (Press CTRL+C to quit)\n",
      "127.0.0.1 - - [25/Jan/2022 12:51:00] \"GET / HTTP/1.1\" 200 -\n",
      "127.0.0.1 - - [25/Jan/2022 12:51:01] \"\u001b[33mGET /favicon.ico HTTP/1.1\u001b[0m\" 404 -\n",
      "127.0.0.1 - - [25/Jan/2022 12:51:05] \"POST / HTTP/1.1\" 200 -\n"
     ]
    }
   ],
   "source": [
    "# define a flask web application for user message input\n",
    "\n",
    "app = Flask(__name__)\n",
    "\n",
    "@app.route('/', methods = ['GET', 'POST'])\n",
    "def home():\n",
    "    if request.method == 'POST':\n",
    "        user_message = request.form['text']\n",
    "        user_message = user_message.replace('\\\\n', '\\n')\n",
    "        input_message = pred_data_cleaning(user_message, receiver_list)\n",
    "        user_prediction = model_loaded.predict(input_message)\n",
    "        pred_label = labels_dict[user_prediction.argmax()]\n",
    "        return pred_label\n",
    "    return render_template('index.html')\n",
    "\n",
    "if __name__ == '__main__':\n",
    "    app.run()"
   ]
  },
  {
   "cell_type": "markdown",
   "id": "452abda2",
   "metadata": {},
   "source": [
    "# Discussion"
   ]
  },
  {
   "cell_type": "markdown",
   "id": "47add718",
   "metadata": {},
   "source": [
    "The model achieves only around 38% of accuracy. The problems may be due to the followings:\n",
    "\n",
    "    *Unbalaned data labels\n",
    "    *Unstructured text body\n",
    "    *Lack data\n",
    "    \n",
    "Improvements proposed:\n",
    "\n",
    "    *More data, especially for inbalanced classes\n",
    "    *Stemming\n",
    "    *Lemmatization\n",
    "    *More advanced models"
   ]
  },
  {
   "cell_type": "code",
   "execution_count": null,
   "id": "3d918bcc",
   "metadata": {
    "scrolled": true
   },
   "outputs": [],
   "source": []
  },
  {
   "cell_type": "code",
   "execution_count": null,
   "id": "210717a2",
   "metadata": {},
   "outputs": [],
   "source": []
  }
 ],
 "metadata": {
  "kernelspec": {
   "display_name": "Python 3",
   "language": "python",
   "name": "python3"
  },
  "language_info": {
   "codemirror_mode": {
    "name": "ipython",
    "version": 3
   },
   "file_extension": ".py",
   "mimetype": "text/x-python",
   "name": "python",
   "nbconvert_exporter": "python",
   "pygments_lexer": "ipython3",
   "version": "3.8.2"
  }
 },
 "nbformat": 4,
 "nbformat_minor": 5
}
