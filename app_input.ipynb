{
 "cells": [
  {
   "cell_type": "code",
   "execution_count": 1,
   "id": "a3ae852f",
   "metadata": {},
   "outputs": [],
   "source": [
    "import pandas as pd\n",
    "from random import choice"
   ]
  },
  {
   "cell_type": "code",
   "execution_count": 2,
   "id": "2301a149",
   "metadata": {},
   "outputs": [],
   "source": [
    "%store -r testing"
   ]
  },
  {
   "cell_type": "code",
   "execution_count": 5,
   "id": "0a9cfefe",
   "metadata": {},
   "outputs": [],
   "source": [
    "data = pd.read_csv('enron_dataset.csv', sep = ';')"
   ]
  },
  {
   "cell_type": "code",
   "execution_count": 37,
   "id": "379219ea",
   "metadata": {
    "scrolled": true
   },
   "outputs": [
    {
     "name": "stdout",
     "output_type": "stream",
     "text": [
      "political influence / contributions / contacts\n"
     ]
    },
    {
     "data": {
      "text/plain": [
       "\"Message-ID: <966711.1075846162973.JavaMail.evans@thyme>\\nDate: Wed, 2 Aug 2000 08:05:00 -0700 (PDT)\\nFrom: steven.kean@enron.com\\nTo: jon.thomsen@enron.com\\nSubject: Ken Lay's Meeting with Fox\\nCc: ken.rice@enron.com, ricardo.charvel@enron.com, rosalee.fleming@enron.com\\nMime-Version: 1.0\\nContent-Type: text/plain; charset=us-ascii\\nContent-Transfer-Encoding: 7bit\\nBcc: ken.rice@enron.com, ricardo.charvel@enron.com, rosalee.fleming@enron.com\\nX-From: Steven J Kean\\nX-To: Jon Thomsen\\nX-cc: Ken Rice, Ricardo Charvel, Rosalee Fleming\\nX-bcc: \\nX-Folder: \\\\Steven_Kean_Dec2000_1\\\\Notes Folders\\\\All documents\\nX-Origin: KEAN-S\\nX-FileName: skean.nsf\\n\\nJon -- Ricardo Charvel is pulling together the briefing for Ken, so please \\nshare the EBS activities/ agenda with him.  Thanks\\n---------------------- Forwarded by Steven J Kean/HOU/EES on 08/02/2000 03:03 \\nPM ---------------------------\\n\\n\\nKen Rice@ENRON COMMUNICATIONS\\n08/02/2000 02:13 PM\\nTo: Jon Thomsen/Enron Communications@Enron Communications\\ncc: Steven J Kean/HOU/EES@EES \\nSubject: Ken Lay's Meeting with Fox\\n\\n Jon\\n\\nKen Lay is going to be attending a multi CEO meeting with President - elect \\nFox on August 24.  They will be discussing a number of issues regarding \\nenergy, telecom, commerce ... etc.  He needs a one page briefing sheet on our \\nactivities in Mexico sometime in the next week or so.  Please put together \\nsomething and work through Steve Kean's group to give Ken the info.\\n\\nThanks\\n\\nKen\\n\""
      ]
     },
     "execution_count": 37,
     "metadata": {},
     "output_type": "execute_result"
    }
   ],
   "source": [
    "# randomly draw message for flask application to predict\n",
    "\n",
    "num = choice(testing)\n",
    "print(data.Target[num])\n",
    "data.Message[num]"
   ]
  },
  {
   "cell_type": "code",
   "execution_count": null,
   "id": "78765202",
   "metadata": {},
   "outputs": [],
   "source": []
  }
 ],
 "metadata": {
  "kernelspec": {
   "display_name": "Python 3",
   "language": "python",
   "name": "python3"
  },
  "language_info": {
   "codemirror_mode": {
    "name": "ipython",
    "version": 3
   },
   "file_extension": ".py",
   "mimetype": "text/x-python",
   "name": "python",
   "nbconvert_exporter": "python",
   "pygments_lexer": "ipython3",
   "version": "3.8.2"
  }
 },
 "nbformat": 4,
 "nbformat_minor": 5
}
